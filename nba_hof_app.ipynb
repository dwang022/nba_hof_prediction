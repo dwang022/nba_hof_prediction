{
 "cells": [
  {
   "cell_type": "code",
   "execution_count": 1,
   "id": "0106b9fd-d816-497f-b499-218e42d2dae3",
   "metadata": {
    "tags": []
   },
   "outputs": [
    {
     "name": "stdout",
     "output_type": "stream",
     "text": [
      "/Users/dwang/Desktop/NBA HOF Prediction\n"
     ]
    }
   ],
   "source": [
    "%cd /Users/dwang/Desktop/NBA HOF Prediction"
   ]
  },
  {
   "cell_type": "code",
   "execution_count": 2,
   "id": "1a9dd15f-0ba6-4e7b-b25a-8eabd20889b3",
   "metadata": {
    "tags": []
   },
   "outputs": [
    {
     "name": "stdout",
     "output_type": "stream",
     "text": [
      "\u001b[0m\n",
      "\u001b[34m\u001b[1m  You can now view your Streamlit app in your browser.\u001b[0m\n",
      "\u001b[0m\n",
      "\u001b[34m  Local URL: \u001b[0m\u001b[1mhttp://localhost:8502\u001b[0m\n",
      "\u001b[34m  Network URL: \u001b[0m\u001b[1mhttp://192.168.1.43:8502\u001b[0m\n",
      "\u001b[0m\n",
      "^C\n",
      "\u001b[34m  Stopping...\u001b[0m\n"
     ]
    }
   ],
   "source": [
    "import streamlit as st\n",
    "\n",
    "code = \"\"\"\n",
    "import streamlit as st\n",
    "import pandas as pd\n",
    "import plotly.express as px\n",
    "\n",
    "# Sample data\n",
    "df = pd.read_csv(\"hof.csv\")\n",
    "\n",
    "# Streamlit App\n",
    "st.set_page_config(page_title=\"Basketball Player Stats App\", page_icon=\"🏀\", layout=\"wide\")\n",
    "\n",
    "# Dropdown for Player Selection\n",
    "selected_player = st.selectbox(\"Select a player:\", df['player'])\n",
    "\n",
    "# Display Player Information\n",
    "player_info = df[df['player'] == selected_player]\n",
    "\n",
    "# Define the order and names of the variables for awards\n",
    "award_order = ['AllStarCount', 'All-NBA 1st Team', 'All-NBA 2nd Team', 'All-NBA 3rd Team', 'All-Defense 1st Team', 'All-Defense 2nd Team', 'nba roy', 'dpoy', 'nba mvp', 'Championships', 'Finals MVP']\n",
    "award_names = {\n",
    "    'nba roy': 'NBA Rookie of the Year',\n",
    "    'dpoy': 'Defensive Player of the Year',\n",
    "    'nba mvp': 'NBA Most Valuable Player',\n",
    "    'All-NBA 1st Team': 'All-NBA 1st Team',\n",
    "    'All-NBA 2nd Team': 'All-NBA 2nd Team',\n",
    "    'All-NBA 3rd Team': 'All-NBA 3rd Team',\n",
    "    'All-Defense 1st Team': 'All-Defense 1st Team',\n",
    "    'All-Defense 2nd Team': 'All-Defense 2nd Team',\n",
    "    'Championships': 'Championships',\n",
    "    'Finals MVP': 'Finals MVP',\n",
    "    'AllStarCount': 'All-Star Count'\n",
    "}\n",
    "\n",
    "player_info_awards = player_info[['player'] + award_order].rename(columns=award_names)\n",
    "\n",
    "\n",
    "\n",
    "# Customize the order and names of variables for career statistics\n",
    "career_stats_order = ['ppg', 'apg', 'rpg']\n",
    "career_stats_names = {\n",
    "    'ppg': 'Points Per Game',\n",
    "    'rpg': 'Rebounds Per Game',\n",
    "    'apg': 'Assists Per Game'\n",
    "}\n",
    "\n",
    "# Customize the order and names of variables for career statistics\n",
    "player_info_career_stats = player_info[['player'] + career_stats_order].rename(columns=career_stats_names)\n",
    "\n",
    "\n",
    "\n",
    "\n",
    "st.subheader(f\"Career Statistics and Accolades for {selected_player}\")\n",
    "column_labels = {'hof': 'In the HOF?', 'first_seas': 'First Season', 'last_seas': 'Last Season', 'ppg': 'Points Per Game', 'apg': 'Assists Per Game', 'rpg': 'Rebounds Per Game', 'AllStarCount': 'All-Star Count', 'nba mvp': 'NBA Most Valuable Player', 'championships': 'Championships', 'dpoy': 'Defensive Player of the Year', 'nba roy': 'NBA Rookie of the Year'}\n",
    "st.table(player_info.drop(columns=['player_id', 'player', 'hof_probability', 'smoy', 'All-Rookie 1st Team', 'All-Rookie 2nd Team'], errors='ignore')[['hof', 'first_seas', 'last_seas', 'ppg', 'apg', 'rpg', 'AllStarCount', 'All-NBA 1st Team', 'All-NBA 2nd Team', 'All-NBA 3rd Team', 'All-Defense 1st Team', 'All-Defense 2nd Team', 'nba roy', 'dpoy', 'nba mvp', 'Championships', 'Finals MVP']].rename(columns=column_labels))\n",
    "\n",
    "# Display Hall of Fame Probability\n",
    "hof_probability = player_info['hof_probability'].values[0]\n",
    "hof_percentage = min(max(hof_probability * 100, 0), 100)\n",
    "\n",
    "st.subheader(\"Hall of Fame Probability:\")\n",
    "st.progress(int(hof_percentage))\n",
    "\n",
    "# Additional information about Hall of Fame Probability\n",
    "st.text(f\"Hall of Fame Probability: {hof_probability:.2%}\")\n",
    "\n",
    "# Plotly Express Bar Chart for Awards\n",
    "fig = px.bar(\n",
    "    player_info_awards.melt(id_vars=['player'], var_name='Award', value_name='Count'),\n",
    "    x='Award',\n",
    "    y='Count',\n",
    "    color='Award',\n",
    "    title=f\"Awards for {selected_player}\",\n",
    "    color_discrete_sequence=['#ffcc00']\n",
    ")\n",
    "\n",
    "# Update layout for better aesthetics\n",
    "fig.update_layout(\n",
    "    xaxis_title=None,\n",
    "    yaxis_title=\"Count\",\n",
    "    legend_title=None\n",
    ")\n",
    "\n",
    "# Show the Plotly chart\n",
    "st.plotly_chart(fig)\n",
    "\n",
    "\n",
    "\n",
    "# Plotly Express Bar Chart for Career Statistics\n",
    "fig_career_stats = px.bar(\n",
    "    player_info_career_stats.melt(id_vars=['player'], var_name='Statistic', value_name='Value'),\n",
    "    x='Statistic',\n",
    "    y='Value',\n",
    "    color='Statistic',\n",
    "    title=f\"Career Statistics for {selected_player}\",\n",
    "    color_discrete_map={'ppg': '#00cc66', 'rpg': '#3366ff', 'apg': '#ff5050'},  # Set colors for each variable\n",
    "    barmode='group'  # Display bars side by side\n",
    ")\n",
    "\n",
    "# Update layout for better aesthetics\n",
    "fig_career_stats.update_layout(\n",
    "    xaxis_title=None,\n",
    "    yaxis_title=\"Value\",\n",
    "    legend_title=None\n",
    ")\n",
    "\n",
    "# Show the Plotly chart for Career Statistics\n",
    "st.plotly_chart(fig_career_stats)\n",
    "\n",
    "\"\"\"\n",
    "    \n",
    "with open(\"nba_hof.py\", \"w\") as f:\n",
    "    f.write(code)\n",
    "    \n",
    "!streamlit run nba_hof.py\n"
   ]
  },
  {
   "cell_type": "code",
   "execution_count": null,
   "id": "9c1903c5-44ee-410a-9f66-72b1de1af167",
   "metadata": {},
   "outputs": [],
   "source": []
  }
 ],
 "metadata": {
  "kernelspec": {
   "display_name": "Python 3 (ipykernel)",
   "language": "python",
   "name": "python3"
  },
  "language_info": {
   "codemirror_mode": {
    "name": "ipython",
    "version": 3
   },
   "file_extension": ".py",
   "mimetype": "text/x-python",
   "name": "python",
   "nbconvert_exporter": "python",
   "pygments_lexer": "ipython3",
   "version": "3.11.5"
  }
 },
 "nbformat": 4,
 "nbformat_minor": 5
}
